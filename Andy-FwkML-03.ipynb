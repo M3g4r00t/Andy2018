{
 "cells": [
  {
   "cell_type": "code",
   "execution_count": 12,
   "metadata": {},
   "outputs": [],
   "source": [
    "import numpy as np\n",
    "import h2o\n",
    "from h2o.estimators.gbm import H2OGradientBoostingEstimator"
   ]
  },
  {
   "cell_type": "code",
   "execution_count": 13,
   "metadata": {},
   "outputs": [
    {
     "name": "stdout",
     "output_type": "stream",
     "text": [
      "Checking whether there is an H2O instance running at http://localhost:54321. connected.\n"
     ]
    },
    {
     "data": {
      "text/html": [
       "<div style=\"overflow:auto\"><table style=\"width:50%\"><tr><td>H2O cluster uptime:</td>\n",
       "<td>29 mins 28 secs</td></tr>\n",
       "<tr><td>H2O cluster timezone:</td>\n",
       "<td>America/Bogota</td></tr>\n",
       "<tr><td>H2O data parsing timezone:</td>\n",
       "<td>UTC</td></tr>\n",
       "<tr><td>H2O cluster version:</td>\n",
       "<td>3.20.0.10</td></tr>\n",
       "<tr><td>H2O cluster version age:</td>\n",
       "<td>1 month </td></tr>\n",
       "<tr><td>H2O cluster name:</td>\n",
       "<td>H2O_from_python_Dennys_24wg3n</td></tr>\n",
       "<tr><td>H2O cluster total nodes:</td>\n",
       "<td>1</td></tr>\n",
       "<tr><td>H2O cluster free memory:</td>\n",
       "<td>2.622 Gb</td></tr>\n",
       "<tr><td>H2O cluster total cores:</td>\n",
       "<td>8</td></tr>\n",
       "<tr><td>H2O cluster allowed cores:</td>\n",
       "<td>8</td></tr>\n",
       "<tr><td>H2O cluster status:</td>\n",
       "<td>locked, healthy</td></tr>\n",
       "<tr><td>H2O connection url:</td>\n",
       "<td>http://localhost:54321</td></tr>\n",
       "<tr><td>H2O connection proxy:</td>\n",
       "<td>None</td></tr>\n",
       "<tr><td>H2O internal security:</td>\n",
       "<td>False</td></tr>\n",
       "<tr><td>H2O API Extensions:</td>\n",
       "<td>Algos, AutoML, Core V3, Core V4</td></tr>\n",
       "<tr><td>Python version:</td>\n",
       "<td>3.5.5 final</td></tr></table></div>"
      ],
      "text/plain": [
       "--------------------------  -------------------------------\n",
       "H2O cluster uptime:         29 mins 28 secs\n",
       "H2O cluster timezone:       America/Bogota\n",
       "H2O data parsing timezone:  UTC\n",
       "H2O cluster version:        3.20.0.10\n",
       "H2O cluster version age:    1 month\n",
       "H2O cluster name:           H2O_from_python_Dennys_24wg3n\n",
       "H2O cluster total nodes:    1\n",
       "H2O cluster free memory:    2.622 Gb\n",
       "H2O cluster total cores:    8\n",
       "H2O cluster allowed cores:  8\n",
       "H2O cluster status:         locked, healthy\n",
       "H2O connection url:         http://localhost:54321\n",
       "H2O connection proxy:\n",
       "H2O internal security:      False\n",
       "H2O API Extensions:         Algos, AutoML, Core V3, Core V4\n",
       "Python version:             3.5.5 final\n",
       "--------------------------  -------------------------------"
      ]
     },
     "metadata": {},
     "output_type": "display_data"
    }
   ],
   "source": [
    "h2o.init()"
   ]
  },
  {
   "cell_type": "code",
   "execution_count": 14,
   "metadata": {},
   "outputs": [
    {
     "name": "stdout",
     "output_type": "stream",
     "text": [
      "Parse progress: |█████████████████████████████████████████████████████████| 100%\n"
     ]
    }
   ],
   "source": [
    "train_df = h2o.import_file('input/train.csv')"
   ]
  },
  {
   "cell_type": "code",
   "execution_count": 15,
   "metadata": {},
   "outputs": [
    {
     "data": {
      "text/html": [
       "<table>\n",
       "<thead>\n",
       "<tr><th style=\"text-align: right;\">  inst_id</th><th>OC  </th><th>sido     </th><th style=\"text-align: right;\">  sgg</th><th style=\"text-align: right;\">   openDate</th><th style=\"text-align: right;\">  bedCount</th><th>instkind        </th><th style=\"text-align: right;\">     revenue1</th><th style=\"text-align: right;\">   salescost1</th><th style=\"text-align: right;\">         sga1</th><th style=\"text-align: right;\">      salary1</th><th style=\"text-align: right;\">           noi1</th><th style=\"text-align: right;\">           noe1</th><th style=\"text-align: right;\">    interest1</th><th style=\"text-align: right;\">        ctax1</th><th style=\"text-align: right;\">      profit1</th><th style=\"text-align: right;\">  liquidAsset1</th><th style=\"text-align: right;\">  quickAsset1</th><th style=\"text-align: right;\">  receivableS1</th><th style=\"text-align: right;\">  inventoryAsset1</th><th style=\"text-align: right;\">   nonCAsset1</th><th style=\"text-align: right;\">    tanAsset1</th><th style=\"text-align: right;\">  OnonCAsset1</th><th style=\"text-align: right;\">  receivableL1</th><th style=\"text-align: right;\">        debt1</th><th style=\"text-align: right;\">  liquidLiabilities1</th><th style=\"text-align: right;\">   shortLoan1</th><th style=\"text-align: right;\">  NCLiabilities1</th><th style=\"text-align: right;\">    longLoan1</th><th style=\"text-align: right;\">    netAsset1</th><th style=\"text-align: right;\">     surplus1</th><th style=\"text-align: right;\">     revenue2</th><th style=\"text-align: right;\">   salescost2</th><th style=\"text-align: right;\">         sga2</th><th style=\"text-align: right;\">      salary2</th><th style=\"text-align: right;\">         noi2</th><th style=\"text-align: right;\">         noe2</th><th style=\"text-align: right;\">    interest2</th><th style=\"text-align: right;\">        ctax2</th><th style=\"text-align: right;\">      profit2</th><th style=\"text-align: right;\">  liquidAsset2</th><th style=\"text-align: right;\">  quickAsset2</th><th style=\"text-align: right;\">  receivableS2</th><th style=\"text-align: right;\">  inventoryAsset2</th><th style=\"text-align: right;\">   nonCAsset2</th><th style=\"text-align: right;\">    tanAsset2</th><th style=\"text-align: right;\">  OnonCAsset2</th><th style=\"text-align: right;\">  receivableL2</th><th style=\"text-align: right;\">        debt2</th><th style=\"text-align: right;\">  liquidLiabilities2</th><th style=\"text-align: right;\">   shortLoan2</th><th style=\"text-align: right;\">  NCLiabilities2</th><th style=\"text-align: right;\">   longLoan2</th><th style=\"text-align: right;\">    netAsset2</th><th style=\"text-align: right;\">     surplus2</th><th style=\"text-align: right;\">  employee1</th><th style=\"text-align: right;\">  employee2</th><th>ownerChange  </th></tr>\n",
       "</thead>\n",
       "<tbody>\n",
       "<tr><td style=\"text-align: right;\">        1</td><td>open</td><td>choongnam</td><td style=\"text-align: right;\">   73</td><td style=\"text-align: right;\">2.00712e+07</td><td style=\"text-align: right;\">       175</td><td>nursing_hospital</td><td style=\"text-align: right;\">  4.21753e+09</td><td style=\"text-align: right;\">  0          </td><td style=\"text-align: right;\">  3.96113e+09</td><td style=\"text-align: right;\">  2.03384e+09</td><td style=\"text-align: right;\">    1.56524e+07</td><td style=\"text-align: right;\">    1.52362e+07</td><td style=\"text-align: right;\">  1.32362e+07</td><td style=\"text-align: right;\">  3.16418e+07</td><td style=\"text-align: right;\">  2.2517e+08 </td><td style=\"text-align: right;\">   1.0127e+09 </td><td style=\"text-align: right;\">  9.97672e+08</td><td style=\"text-align: right;\">   4.70056e+08</td><td style=\"text-align: right;\">      1.50278e+07</td><td style=\"text-align: right;\">  2.51459e+09</td><td style=\"text-align: right;\">  2.36068e+09</td><td style=\"text-align: right;\">  1.4345e+08 </td><td style=\"text-align: right;\">             0</td><td style=\"text-align: right;\">  6.82826e+08</td><td style=\"text-align: right;\">         2.01324e+08</td><td style=\"text-align: right;\">  0          </td><td style=\"text-align: right;\">     4.81502e+08</td><td style=\"text-align: right;\">  3.51e+08   </td><td style=\"text-align: right;\">  2.84446e+09</td><td style=\"text-align: right;\">  1.49639e+09</td><td style=\"text-align: right;\">  4.29785e+09</td><td style=\"text-align: right;\">  0          </td><td style=\"text-align: right;\">  4.05742e+09</td><td style=\"text-align: right;\">  2.06379e+09</td><td style=\"text-align: right;\">  1.61947e+07</td><td style=\"text-align: right;\">  2.99834e+07</td><td style=\"text-align: right;\">  1.5683e+07 </td><td style=\"text-align: right;\">  1.88081e+07</td><td style=\"text-align: right;\">  2.0783e+08 </td><td style=\"text-align: right;\">   8.30169e+08</td><td style=\"text-align: right;\">  8.1657e+08 </td><td style=\"text-align: right;\">   5.23703e+08</td><td style=\"text-align: right;\">      1.3599e+07 </td><td style=\"text-align: right;\">  2.54811e+09</td><td style=\"text-align: right;\">  2.38626e+09</td><td style=\"text-align: right;\">  1.45899e+08</td><td style=\"text-align: right;\">             0</td><td style=\"text-align: right;\">  7.58994e+08</td><td style=\"text-align: right;\">         2.22877e+08</td><td style=\"text-align: right;\">  0          </td><td style=\"text-align: right;\">     5.36117e+08</td><td style=\"text-align: right;\">  3.9e+08   </td><td style=\"text-align: right;\">  2.61929e+09</td><td style=\"text-align: right;\">  1.27122e+09</td><td style=\"text-align: right;\">         62</td><td style=\"text-align: right;\">         64</td><td>same         </td></tr>\n",
       "<tr><td style=\"text-align: right;\">        3</td><td>open</td><td>gyeongnam</td><td style=\"text-align: right;\">   32</td><td style=\"text-align: right;\">1.99704e+07</td><td style=\"text-align: right;\">       410</td><td>general_hospital</td><td style=\"text-align: right;\">nan          </td><td style=\"text-align: right;\">nan          </td><td style=\"text-align: right;\">nan          </td><td style=\"text-align: right;\">nan          </td><td style=\"text-align: right;\">  nan          </td><td style=\"text-align: right;\">  nan          </td><td style=\"text-align: right;\">nan          </td><td style=\"text-align: right;\">nan          </td><td style=\"text-align: right;\">nan          </td><td style=\"text-align: right;\"> nan          </td><td style=\"text-align: right;\">nan          </td><td style=\"text-align: right;\"> nan          </td><td style=\"text-align: right;\">    nan          </td><td style=\"text-align: right;\">nan          </td><td style=\"text-align: right;\">nan          </td><td style=\"text-align: right;\">nan          </td><td style=\"text-align: right;\">           nan</td><td style=\"text-align: right;\">nan          </td><td style=\"text-align: right;\">       nan          </td><td style=\"text-align: right;\">nan          </td><td style=\"text-align: right;\">   nan          </td><td style=\"text-align: right;\">nan          </td><td style=\"text-align: right;\">nan          </td><td style=\"text-align: right;\">nan          </td><td style=\"text-align: right;\">nan          </td><td style=\"text-align: right;\">nan          </td><td style=\"text-align: right;\">nan          </td><td style=\"text-align: right;\">nan          </td><td style=\"text-align: right;\">nan          </td><td style=\"text-align: right;\">nan          </td><td style=\"text-align: right;\">nan          </td><td style=\"text-align: right;\">nan          </td><td style=\"text-align: right;\">nan          </td><td style=\"text-align: right;\"> nan          </td><td style=\"text-align: right;\">nan          </td><td style=\"text-align: right;\"> nan          </td><td style=\"text-align: right;\">    nan          </td><td style=\"text-align: right;\">nan          </td><td style=\"text-align: right;\">nan          </td><td style=\"text-align: right;\">nan          </td><td style=\"text-align: right;\">           nan</td><td style=\"text-align: right;\">nan          </td><td style=\"text-align: right;\">       nan          </td><td style=\"text-align: right;\">nan          </td><td style=\"text-align: right;\">   nan          </td><td style=\"text-align: right;\">nan         </td><td style=\"text-align: right;\">nan          </td><td style=\"text-align: right;\">nan          </td><td style=\"text-align: right;\">        801</td><td style=\"text-align: right;\">        813</td><td>same         </td></tr>\n",
       "<tr><td style=\"text-align: right;\">        4</td><td>open</td><td>gyeonggi </td><td style=\"text-align: right;\">   89</td><td style=\"text-align: right;\">2.01612e+07</td><td style=\"text-align: right;\">       468</td><td>nursing_hospital</td><td style=\"text-align: right;\">  1.00452e+09</td><td style=\"text-align: right;\">  5.15484e+08</td><td style=\"text-align: right;\">  4.4722e+08 </td><td style=\"text-align: right;\">  2.96402e+08</td><td style=\"text-align: right;\">76156          </td><td style=\"text-align: right;\">30000          </td><td style=\"text-align: right;\">  0          </td><td style=\"text-align: right;\">  0          </td><td style=\"text-align: right;\">  4.18648e+07</td><td style=\"text-align: right;\">   2.72442e+08</td><td style=\"text-align: right;\">  2.53682e+08</td><td style=\"text-align: right;\">   8.09595e+06</td><td style=\"text-align: right;\">      1.876e+07  </td><td style=\"text-align: right;\">  1.20481e+08</td><td style=\"text-align: right;\">  1.20481e+08</td><td style=\"text-align: right;\">  0          </td><td style=\"text-align: right;\">             0</td><td style=\"text-align: right;\">  9.24143e+07</td><td style=\"text-align: right;\">         9.24143e+07</td><td style=\"text-align: right;\">  0          </td><td style=\"text-align: right;\">     0          </td><td style=\"text-align: right;\">  0          </td><td style=\"text-align: right;\">  3.00509e+08</td><td style=\"text-align: right;\">  0          </td><td style=\"text-align: right;\">  0          </td><td style=\"text-align: right;\">  0          </td><td style=\"text-align: right;\">  0          </td><td style=\"text-align: right;\">  0          </td><td style=\"text-align: right;\">  0          </td><td style=\"text-align: right;\">  0          </td><td style=\"text-align: right;\">  0          </td><td style=\"text-align: right;\">  0          </td><td style=\"text-align: right;\">  0          </td><td style=\"text-align: right;\">   0          </td><td style=\"text-align: right;\">  0          </td><td style=\"text-align: right;\">   0          </td><td style=\"text-align: right;\">      0          </td><td style=\"text-align: right;\">  0          </td><td style=\"text-align: right;\">  0          </td><td style=\"text-align: right;\">  0          </td><td style=\"text-align: right;\">             0</td><td style=\"text-align: right;\">  0          </td><td style=\"text-align: right;\">         0          </td><td style=\"text-align: right;\">  0          </td><td style=\"text-align: right;\">     0          </td><td style=\"text-align: right;\">  0         </td><td style=\"text-align: right;\">  0          </td><td style=\"text-align: right;\">  0          </td><td style=\"text-align: right;\">        234</td><td style=\"text-align: right;\">          1</td><td>same         </td></tr>\n",
       "<tr><td style=\"text-align: right;\">        7</td><td>open</td><td>incheon  </td><td style=\"text-align: right;\">  141</td><td style=\"text-align: right;\">2.00008e+07</td><td style=\"text-align: right;\">       353</td><td>general_hospital</td><td style=\"text-align: right;\">  7.25073e+10</td><td style=\"text-align: right;\">  0          </td><td style=\"text-align: right;\">  7.06774e+10</td><td style=\"text-align: right;\">  3.1786e+10 </td><td style=\"text-align: right;\">    5.06223e+08</td><td style=\"text-align: right;\">    1.25957e+09</td><td style=\"text-align: right;\">  1.19688e+09</td><td style=\"text-align: right;\">  1.7377e+08 </td><td style=\"text-align: right;\">  9.0283e+08 </td><td style=\"text-align: right;\">   1.30415e+10</td><td style=\"text-align: right;\">  1.15347e+10</td><td style=\"text-align: right;\">   0          </td><td style=\"text-align: right;\">      1.50679e+09</td><td style=\"text-align: right;\">  4.31794e+10</td><td style=\"text-align: right;\">  3.83208e+10</td><td style=\"text-align: right;\">  3.94521e+09</td><td style=\"text-align: right;\">             0</td><td style=\"text-align: right;\">  4.23638e+10</td><td style=\"text-align: right;\">         2.79919e+10</td><td style=\"text-align: right;\">  1.98852e+10</td><td style=\"text-align: right;\">     1.43719e+10</td><td style=\"text-align: right;\">  7.25304e+09</td><td style=\"text-align: right;\">  1.38571e+10</td><td style=\"text-align: right;\">  8.64366e+09</td><td style=\"text-align: right;\">  6.68583e+10</td><td style=\"text-align: right;\">  0          </td><td style=\"text-align: right;\">  6.49242e+10</td><td style=\"text-align: right;\">  2.97113e+10</td><td style=\"text-align: right;\">  4.76808e+08</td><td style=\"text-align: right;\">  1.35367e+09</td><td style=\"text-align: right;\">  1.27742e+09</td><td style=\"text-align: right;\">  2.18892e+08</td><td style=\"text-align: right;\">  8.38387e+08</td><td style=\"text-align: right;\">   1.11257e+10</td><td style=\"text-align: right;\">  9.89054e+09</td><td style=\"text-align: right;\">   0          </td><td style=\"text-align: right;\">      1.23518e+09</td><td style=\"text-align: right;\">  3.95836e+10</td><td style=\"text-align: right;\">  3.48558e+10</td><td style=\"text-align: right;\">  3.91591e+09</td><td style=\"text-align: right;\">             0</td><td style=\"text-align: right;\">  3.7755e+10 </td><td style=\"text-align: right;\">         1.70186e+10</td><td style=\"text-align: right;\">  9.21943e+09</td><td style=\"text-align: right;\">     2.07364e+10</td><td style=\"text-align: right;\">  1.51e+10  </td><td style=\"text-align: right;\">  1.29543e+10</td><td style=\"text-align: right;\">  7.74083e+09</td><td style=\"text-align: right;\">        663</td><td style=\"text-align: right;\">        663</td><td>same         </td></tr>\n",
       "<tr><td style=\"text-align: right;\">        9</td><td>open</td><td>gyeongnam</td><td style=\"text-align: right;\">   32</td><td style=\"text-align: right;\">2.00509e+07</td><td style=\"text-align: right;\">       196</td><td>general_hospital</td><td style=\"text-align: right;\">  4.90435e+10</td><td style=\"text-align: right;\">  0          </td><td style=\"text-align: right;\">  4.76561e+10</td><td style=\"text-align: right;\">  2.44608e+10</td><td style=\"text-align: right;\">    1.12352e+08</td><td style=\"text-align: right;\">    1.41909e+09</td><td style=\"text-align: right;\">  1.30725e+09</td><td style=\"text-align: right;\">  0          </td><td style=\"text-align: right;\">  8.07497e+07</td><td style=\"text-align: right;\">   6.31708e+09</td><td style=\"text-align: right;\">  5.87327e+09</td><td style=\"text-align: right;\">   4.09932e+09</td><td style=\"text-align: right;\">      4.43819e+08</td><td style=\"text-align: right;\">  4.36673e+10</td><td style=\"text-align: right;\">  4.33061e+10</td><td style=\"text-align: right;\">  2.2234e+08 </td><td style=\"text-align: right;\">             0</td><td style=\"text-align: right;\">  4.98981e+10</td><td style=\"text-align: right;\">         2.89092e+10</td><td style=\"text-align: right;\">  1.79304e+10</td><td style=\"text-align: right;\">     2.09889e+10</td><td style=\"text-align: right;\">  1.35e+10   </td><td style=\"text-align: right;\">  8.63116e+07</td><td style=\"text-align: right;\">  9.02555e+09</td><td style=\"text-align: right;\">  4.80828e+10</td><td style=\"text-align: right;\">  0          </td><td style=\"text-align: right;\">  4.71258e+10</td><td style=\"text-align: right;\">  2.346e+10  </td><td style=\"text-align: right;\">  5.97748e+08</td><td style=\"text-align: right;\">  1.52211e+09</td><td style=\"text-align: right;\">  1.34985e+09</td><td style=\"text-align: right;\">  0          </td><td style=\"text-align: right;\">  3.26426e+07</td><td style=\"text-align: right;\">   4.90678e+09</td><td style=\"text-align: right;\">  4.46402e+09</td><td style=\"text-align: right;\">   3.36523e+09</td><td style=\"text-align: right;\">      4.42759e+08</td><td style=\"text-align: right;\">  4.65314e+10</td><td style=\"text-align: right;\">  4.56294e+10</td><td style=\"text-align: right;\">  7.89341e+08</td><td style=\"text-align: right;\">             0</td><td style=\"text-align: right;\">  5.14326e+10</td><td style=\"text-align: right;\">         3.00726e+10</td><td style=\"text-align: right;\">  1.75938e+10</td><td style=\"text-align: right;\">     2.136e+10  </td><td style=\"text-align: right;\">  1.4108e+10</td><td style=\"text-align: right;\">  5.56194e+06</td><td style=\"text-align: right;\">  9.02555e+09</td><td style=\"text-align: right;\">        206</td><td style=\"text-align: right;\">        197</td><td>same         </td></tr>\n",
       "<tr><td style=\"text-align: right;\">       11</td><td>open</td><td>gyeongnam</td><td style=\"text-align: right;\">  155</td><td style=\"text-align: right;\">2.00205e+07</td><td style=\"text-align: right;\">       243</td><td>general_hospital</td><td style=\"text-align: right;\">  3.35805e+10</td><td style=\"text-align: right;\">  9.223e+09  </td><td style=\"text-align: right;\">  2.37279e+10</td><td style=\"text-align: right;\">  1.66553e+10</td><td style=\"text-align: right;\">    6.54143e+07</td><td style=\"text-align: right;\">    7.41269e+08</td><td style=\"text-align: right;\">  3.36462e+08</td><td style=\"text-align: right;\">  0          </td><td style=\"text-align: right;\"> -4.62274e+07</td><td style=\"text-align: right;\">   5.6351e+09 </td><td style=\"text-align: right;\">  5.48168e+09</td><td style=\"text-align: right;\">   6.63482e+08</td><td style=\"text-align: right;\">      1.53425e+08</td><td style=\"text-align: right;\">  1.86497e+10</td><td style=\"text-align: right;\">  1.84994e+10</td><td style=\"text-align: right;\">  1.36458e+08</td><td style=\"text-align: right;\">             0</td><td style=\"text-align: right;\">  0          </td><td style=\"text-align: right;\">         1.84994e+10</td><td style=\"text-align: right;\">  1.71805e+10</td><td style=\"text-align: right;\">     0          </td><td style=\"text-align: right;\">  0          </td><td style=\"text-align: right;\">  0          </td><td style=\"text-align: right;\">  3.66492e+09</td><td style=\"text-align: right;\">  3.43344e+10</td><td style=\"text-align: right;\">  9.83914e+09</td><td style=\"text-align: right;\">  2.40962e+10</td><td style=\"text-align: right;\">  1.63879e+10</td><td style=\"text-align: right;\">  1.25681e+08</td><td style=\"text-align: right;\">  4.50083e+08</td><td style=\"text-align: right;\">  4.1551e+08 </td><td style=\"text-align: right;\">  0          </td><td style=\"text-align: right;\">  7.4686e+07 </td><td style=\"text-align: right;\">   4.86942e+09</td><td style=\"text-align: right;\">  4.72586e+09</td><td style=\"text-align: right;\">   1.97616e+08</td><td style=\"text-align: right;\">      1.43562e+08</td><td style=\"text-align: right;\">  2.21271e+10</td><td style=\"text-align: right;\">  2.18611e+10</td><td style=\"text-align: right;\">  1.91046e+08</td><td style=\"text-align: right;\">             0</td><td style=\"text-align: right;\">  0          </td><td style=\"text-align: right;\">         2.18611e+10</td><td style=\"text-align: right;\">  1.70871e+10</td><td style=\"text-align: right;\">     2e+07      </td><td style=\"text-align: right;\">  0         </td><td style=\"text-align: right;\">  0          </td><td style=\"text-align: right;\">  5.879e+09  </td><td style=\"text-align: right;\">        397</td><td style=\"text-align: right;\">        390</td><td>same         </td></tr>\n",
       "<tr><td style=\"text-align: right;\">       14</td><td>open</td><td>gyeonggi </td><td style=\"text-align: right;\">  169</td><td style=\"text-align: right;\">1.98207e+07</td><td style=\"text-align: right;\">       213</td><td>general_hospital</td><td style=\"text-align: right;\">  2.25522e+10</td><td style=\"text-align: right;\">  4.44996e+09</td><td style=\"text-align: right;\">  1.65733e+10</td><td style=\"text-align: right;\">  1.1074e+10 </td><td style=\"text-align: right;\">    3.05646e+08</td><td style=\"text-align: right;\">    9.70009e+08</td><td style=\"text-align: right;\">  9.40943e+08</td><td style=\"text-align: right;\">  0          </td><td style=\"text-align: right;\">  8.6453e+08 </td><td style=\"text-align: right;\">   1.14075e+10</td><td style=\"text-align: right;\">  1.12363e+10</td><td style=\"text-align: right;\">   1.43205e+08</td><td style=\"text-align: right;\">      1.71199e+08</td><td style=\"text-align: right;\">  2.71322e+10</td><td style=\"text-align: right;\">  2.66163e+10</td><td style=\"text-align: right;\">  4.69765e+08</td><td style=\"text-align: right;\">             0</td><td style=\"text-align: right;\">  2.41223e+10</td><td style=\"text-align: right;\">         2.0349e+10 </td><td style=\"text-align: right;\">  1.51969e+10</td><td style=\"text-align: right;\">     3.7733e+09 </td><td style=\"text-align: right;\">  3.7233e+09 </td><td style=\"text-align: right;\">  1.44174e+10</td><td style=\"text-align: right;\">  9.15825e+09</td><td style=\"text-align: right;\">  2.14348e+10</td><td style=\"text-align: right;\">  4.76484e+09</td><td style=\"text-align: right;\">  1.53124e+10</td><td style=\"text-align: right;\">  1.0058e+10 </td><td style=\"text-align: right;\">  2.22585e+08</td><td style=\"text-align: right;\">  1.02065e+09</td><td style=\"text-align: right;\">  9.11835e+08</td><td style=\"text-align: right;\">  7.69394e+07</td><td style=\"text-align: right;\">  4.82647e+08</td><td style=\"text-align: right;\">   1.10464e+10</td><td style=\"text-align: right;\">  1.09723e+10</td><td style=\"text-align: right;\">   8.64883e+07</td><td style=\"text-align: right;\">      7.41248e+07</td><td style=\"text-align: right;\">  2.74839e+10</td><td style=\"text-align: right;\">  2.69792e+10</td><td style=\"text-align: right;\">  4.90139e+08</td><td style=\"text-align: right;\">             0</td><td style=\"text-align: right;\">  1.9642e+10 </td><td style=\"text-align: right;\">         1.3292e+10 </td><td style=\"text-align: right;\">  1.21556e+10</td><td style=\"text-align: right;\">     6.35e+09   </td><td style=\"text-align: right;\">  6.23e+09  </td><td style=\"text-align: right;\">  1.88883e+10</td><td style=\"text-align: right;\">  9.17428e+09</td><td style=\"text-align: right;\">        221</td><td style=\"text-align: right;\">        246</td><td>same         </td></tr>\n",
       "<tr><td style=\"text-align: right;\">       15</td><td>open</td><td>busan    </td><td style=\"text-align: right;\">   66</td><td style=\"text-align: right;\">1.98711e+07</td><td style=\"text-align: right;\">       250</td><td>general_hospital</td><td style=\"text-align: right;\">  6.43592e+10</td><td style=\"text-align: right;\">  2.0758e+10 </td><td style=\"text-align: right;\">  4.08825e+10</td><td style=\"text-align: right;\">  2.68226e+10</td><td style=\"text-align: right;\">    1.42619e+09</td><td style=\"text-align: right;\">    3.16692e+09</td><td style=\"text-align: right;\">  4.65984e+08</td><td style=\"text-align: right;\">  5.24567e+08</td><td style=\"text-align: right;\">  4.53318e+08</td><td style=\"text-align: right;\">   1.27565e+10</td><td style=\"text-align: right;\">  1.18792e+10</td><td style=\"text-align: right;\">   5.95839e+09</td><td style=\"text-align: right;\">      8.77299e+08</td><td style=\"text-align: right;\">  3.85926e+10</td><td style=\"text-align: right;\">  3.78779e+10</td><td style=\"text-align: right;\">  3.61284e+07</td><td style=\"text-align: right;\">             0</td><td style=\"text-align: right;\">  4.6886e+10 </td><td style=\"text-align: right;\">         2.55632e+10</td><td style=\"text-align: right;\">  1.3e+10    </td><td style=\"text-align: right;\">     2.13228e+10</td><td style=\"text-align: right;\">  9.9996e+08 </td><td style=\"text-align: right;\">  4.46312e+09</td><td style=\"text-align: right;\">  0          </td><td style=\"text-align: right;\">  5.94964e+10</td><td style=\"text-align: right;\">  1.95826e+10</td><td style=\"text-align: right;\">  3.94445e+10</td><td style=\"text-align: right;\">  2.54122e+10</td><td style=\"text-align: right;\">  1.79576e+09</td><td style=\"text-align: right;\">  9.21095e+08</td><td style=\"text-align: right;\">  4.64175e+08</td><td style=\"text-align: right;\">  2.12053e+08</td><td style=\"text-align: right;\">  1.13193e+09</td><td style=\"text-align: right;\">   8.68198e+09</td><td style=\"text-align: right;\">  7.81909e+09</td><td style=\"text-align: right;\">   4.92369e+09</td><td style=\"text-align: right;\">      8.62887e+08</td><td style=\"text-align: right;\">  4.15207e+10</td><td style=\"text-align: right;\">  4.06615e+10</td><td style=\"text-align: right;\">  1.28284e+07</td><td style=\"text-align: right;\">             0</td><td style=\"text-align: right;\">  3.59848e+10</td><td style=\"text-align: right;\">         1.12196e+10</td><td style=\"text-align: right;\">  0          </td><td style=\"text-align: right;\">     2.47652e+10</td><td style=\"text-align: right;\">  1.6e+10   </td><td style=\"text-align: right;\">  1.42179e+10</td><td style=\"text-align: right;\">  9.17728e+09</td><td style=\"text-align: right;\">        489</td><td style=\"text-align: right;\">        489</td><td>same         </td></tr>\n",
       "<tr><td style=\"text-align: right;\">       16</td><td>open</td><td>jeonnam  </td><td style=\"text-align: right;\">   91</td><td style=\"text-align: right;\">2.00609e+07</td><td style=\"text-align: right;\">       280</td><td>nursing_hospital</td><td style=\"text-align: right;\">  1.27484e+10</td><td style=\"text-align: right;\">  3.28698e+08</td><td style=\"text-align: right;\">  1.10762e+10</td><td style=\"text-align: right;\">  7.15594e+09</td><td style=\"text-align: right;\">    2.61621e+08</td><td style=\"text-align: right;\">    5.79079e+08</td><td style=\"text-align: right;\">  1.67472e+08</td><td style=\"text-align: right;\">  2.52453e+08</td><td style=\"text-align: right;\">  7.73595e+08</td><td style=\"text-align: right;\">   4.13427e+09</td><td style=\"text-align: right;\">  4.11909e+09</td><td style=\"text-align: right;\">   0          </td><td style=\"text-align: right;\">      1.51777e+07</td><td style=\"text-align: right;\">  1.16693e+10</td><td style=\"text-align: right;\">  1.15591e+10</td><td style=\"text-align: right;\">  8.64e+07   </td><td style=\"text-align: right;\">             0</td><td style=\"text-align: right;\">  0          </td><td style=\"text-align: right;\">         1.15591e+10</td><td style=\"text-align: right;\">  1.27965e+10</td><td style=\"text-align: right;\">     2.11808e+07</td><td style=\"text-align: right;\">  0          </td><td style=\"text-align: right;\">  0          </td><td style=\"text-align: right;\">  0          </td><td style=\"text-align: right;\">  1.28246e+10</td><td style=\"text-align: right;\">  3.49819e+08</td><td style=\"text-align: right;\">  1.10099e+10</td><td style=\"text-align: right;\">  6.89766e+09</td><td style=\"text-align: right;\">  6.59212e+07</td><td style=\"text-align: right;\">  8.28282e+08</td><td style=\"text-align: right;\">  2.1466e+08 </td><td style=\"text-align: right;\">  1.52559e+08</td><td style=\"text-align: right;\">  5.49986e+08</td><td style=\"text-align: right;\">   3.1171e+09 </td><td style=\"text-align: right;\">  3.0882e+09 </td><td style=\"text-align: right;\">   0          </td><td style=\"text-align: right;\">      2.25612e+07</td><td style=\"text-align: right;\">  1.32266e+10</td><td style=\"text-align: right;\">  1.31132e+10</td><td style=\"text-align: right;\">  1.134e+08  </td><td style=\"text-align: right;\">             0</td><td style=\"text-align: right;\">  0          </td><td style=\"text-align: right;\">         1.31132e+10</td><td style=\"text-align: right;\">  1.26644e+10</td><td style=\"text-align: right;\">     4.19627e+07</td><td style=\"text-align: right;\">  0         </td><td style=\"text-align: right;\">  0          </td><td style=\"text-align: right;\">  0          </td><td style=\"text-align: right;\">        243</td><td style=\"text-align: right;\">        243</td><td>same         </td></tr>\n",
       "<tr><td style=\"text-align: right;\">       17</td><td>open</td><td>seoul    </td><td style=\"text-align: right;\">    4</td><td style=\"text-align: right;\">2.00001e+07</td><td style=\"text-align: right;\">        55</td><td>general_hospital</td><td style=\"text-align: right;\">  4.14061e+10</td><td style=\"text-align: right;\">  6.62467e+09</td><td style=\"text-align: right;\">  3.51202e+10</td><td style=\"text-align: right;\">  1.97966e+10</td><td style=\"text-align: right;\">    7.08476e+08</td><td style=\"text-align: right;\">    1.00012e+09</td><td style=\"text-align: right;\">  4.48541e+08</td><td style=\"text-align: right;\">  5.37417e+07</td><td style=\"text-align: right;\"> -6.8416e+08 </td><td style=\"text-align: right;\">   4.53994e+09</td><td style=\"text-align: right;\">  3.92428e+09</td><td style=\"text-align: right;\">   2.95659e+09</td><td style=\"text-align: right;\">      6.1566e+08 </td><td style=\"text-align: right;\">  4.57203e+10</td><td style=\"text-align: right;\">  4.34391e+10</td><td style=\"text-align: right;\">  0          </td><td style=\"text-align: right;\">             0</td><td style=\"text-align: right;\">  3.05343e+10</td><td style=\"text-align: right;\">         1.66546e+10</td><td style=\"text-align: right;\">  1.246e+10  </td><td style=\"text-align: right;\">     1.38797e+10</td><td style=\"text-align: right;\">  2.27094e+09</td><td style=\"text-align: right;\">  1.97259e+10</td><td style=\"text-align: right;\">  9.0703e+09 </td><td style=\"text-align: right;\">  4.59814e+10</td><td style=\"text-align: right;\">  7.38879e+09</td><td style=\"text-align: right;\">  3.5549e+10 </td><td style=\"text-align: right;\">  2.00418e+10</td><td style=\"text-align: right;\">  2.42351e+08</td><td style=\"text-align: right;\">  2.7547e+09 </td><td style=\"text-align: right;\">  5.50893e+08</td><td style=\"text-align: right;\">  1.45281e+08</td><td style=\"text-align: right;\">  3.86028e+08</td><td style=\"text-align: right;\">   4.04222e+09</td><td style=\"text-align: right;\">  3.48176e+09</td><td style=\"text-align: right;\">   2.32174e+09</td><td style=\"text-align: right;\">      5.60459e+08</td><td style=\"text-align: right;\">  5.1109e+10 </td><td style=\"text-align: right;\">  4.83454e+10</td><td style=\"text-align: right;\">  0          </td><td style=\"text-align: right;\">             0</td><td style=\"text-align: right;\">  3.49067e+10</td><td style=\"text-align: right;\">         1.96759e+10</td><td style=\"text-align: right;\">  1.63654e+10</td><td style=\"text-align: right;\">     1.52308e+10</td><td style=\"text-align: right;\">  3.4e+09   </td><td style=\"text-align: right;\">  2.02445e+10</td><td style=\"text-align: right;\">  9.55458e+09</td><td style=\"text-align: right;\">        370</td><td style=\"text-align: right;\">        382</td><td>same         </td></tr>\n",
       "</tbody>\n",
       "</table>"
      ]
     },
     "metadata": {},
     "output_type": "display_data"
    },
    {
     "data": {
      "text/plain": []
     },
     "execution_count": 15,
     "metadata": {},
     "output_type": "execute_result"
    }
   ],
   "source": [
    "train_df"
   ]
  },
  {
   "cell_type": "markdown",
   "metadata": {},
   "source": [
    "https://www.h2o.ai/products/h2o-driverless-ai/"
   ]
  },
  {
   "cell_type": "markdown",
   "metadata": {},
   "source": [
    "<img src=\"https://industrypulse.com/wp-content/uploads/2017/07/screen-shot-2017-07-06-at-7-41-12-am.png\">"
   ]
  },
  {
   "cell_type": "code",
   "execution_count": null,
   "metadata": {},
   "outputs": [],
   "source": []
  }
 ],
 "metadata": {
  "kernelspec": {
   "display_name": "Python 3",
   "language": "python",
   "name": "python3"
  },
  "language_info": {
   "codemirror_mode": {
    "name": "ipython",
    "version": 3
   },
   "file_extension": ".py",
   "mimetype": "text/x-python",
   "name": "python",
   "nbconvert_exporter": "python",
   "pygments_lexer": "ipython3",
   "version": "3.5.5"
  }
 },
 "nbformat": 4,
 "nbformat_minor": 2
}
