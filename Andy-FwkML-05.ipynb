{
 "cells": [
  {
   "cell_type": "code",
   "execution_count": 15,
   "metadata": {},
   "outputs": [],
   "source": [
    "import numpy as np\n",
    "import featuretools as ft\n",
    "import pandas as pd\n",
    "import seaborn as sns\n",
    "import matplotlib.pyplot as plt\n",
    "sns.set(style=\"whitegrid\")\n",
    "import warnings\n",
    "warnings.filterwarnings(\"ignore\")\n",
    "from sklearn import preprocessing\n",
    "from catboost import CatBoostClassifier\n",
    "from sklearn.ensemble import RandomForestClassifier\n",
    "import lightgbm as lgb\n",
    "import xgboost\n",
    "from xgboost.sklearn import XGBClassifier"
   ]
  },
  {
   "cell_type": "code",
   "execution_count": 16,
   "metadata": {},
   "outputs": [],
   "source": [
    "train_df = pd.read_csv('input/train.csv', na_values=['NAN','NA','NaN','na','nan'])\n",
    "test_df = pd.read_csv('input/test.csv', na_values=['NAN','NA','NaN','na','nan'])\n",
    "X_all = pd.read_csv('input/X_all.csv', na_values=['NAN','NA','NaN','na','nan'])\n",
    "X = pd.read_csv('input/X.csv', na_values=['NAN','NA','NaN','na','nan'])\n",
    "X_test = pd.read_csv('input/X_test.csv', na_values=['NAN','NA','NaN','na','nan'])\n",
    "ft_importance_total = pd.read_csv('input/ft_importance_total.csv', na_values=['NAN','NA','NaN','na','nan'])"
   ]
  },
  {
   "cell_type": "code",
   "execution_count": 17,
   "metadata": {},
   "outputs": [
    {
     "data": {
      "text/plain": [
       "0.05244755244755245"
      ]
     },
     "execution_count": 17,
     "metadata": {},
     "output_type": "execute_result"
    }
   ],
   "source": [
    "train_df['OC'][train_df['OC'] == 'open'] = 0\n",
    "train_df['OC'][train_df['OC'] == ' close'] = 1\n",
    "y = train_df['OC']\n",
    "X_id = train_df['inst_id']\n",
    "X_test_id = test_df['inst_id']\n",
    "X.fillna(X.median(), inplace=True)\n",
    "X_test.fillna(X_test.median(), inplace=True)\n",
    "y.fillna(0, inplace=True)\n",
    "imbalanced_pos_ratio = y.value_counts()[1]/y.value_counts()[0]\n",
    "imbalanced_pos_ratio"
   ]
  },
  {
   "cell_type": "code",
   "execution_count": 46,
   "metadata": {},
   "outputs": [],
   "source": [
    "def modelfit(alg, X, y, useTrainCV=True, cv_folds=5, early_stopping_rounds=50):\n",
    "    \n",
    "    if useTrainCV:\n",
    "        xgb_param = alg.get_xgb_params()\n",
    "        xgtrain = xgboost.DMatrix(X.values, label=y.values)\n",
    "        cvresult = xgboost.cv(xgb_param, xgtrain, num_boost_round=alg.get_params()['n_estimators'], nfold=cv_folds,\n",
    "            metrics='auc', early_stopping_rounds=early_stopping_rounds, stratified=True)\n",
    "        alg.set_params(n_estimators=cvresult.shape[0])\n",
    "    #print(cvresult)\n",
    "    #Fit the algorithm on the data\n",
    "    #alg.fit(dtrain[predictors], dtrain[target],eval_metric='auc')\n",
    "        \n",
    "    #Predict training set:\n",
    "    #dtrain_predictions = alg.predict(dtrain[predictors])\n",
    "    #dtrain_predprob = alg.predict_proba(dtrain[predictors])[:,1]\n",
    "        \n",
    "    #Print model report:\n",
    "    #print \"\\nModel Report\"\n",
    "    #print \"Accuracy : %.4g\" % metrics.accuracy_score(dtrain[target].values, dtrain_predictions)\n",
    "    #print \"AUC Score (Train): %f\" % metrics.roc_auc_score(dtrain[target], dtrain_predprob)\n",
    "                    \n",
    "    #feat_imp = pd.Series(alg.booster().get_fscore()).sort_values(ascending=False)\n",
    "    #feat_imp.plot(kind='bar', title='Feature Importances')\n",
    "    #plt.ylabel('Feature Importance Score')\n",
    "    return cvresult.shape[0], cvresult.iloc[cvresult.shape[0]-1, 0]*-1"
   ]
  },
  {
   "cell_type": "code",
   "execution_count": 47,
   "metadata": {},
   "outputs": [],
   "source": [
    "xgb = XGBClassifier(\n",
    "         learning_rate=0.1,\n",
    "         n_estimators=500,\n",
    "         objective= 'binary:logistic',\n",
    "         tree_method='gpu_exact',\n",
    "         predictor='gpu_predictor',\n",
    "         scale_pos_weight=int(1/imbalanced_pos_ratio),\n",
    "         seed=42)"
   ]
  },
  {
   "cell_type": "code",
   "execution_count": 48,
   "metadata": {},
   "outputs": [
    {
     "name": "stdout",
     "output_type": "stream",
     "text": [
      "Iteration 1 estimators 9 percentile 99 auc -0.8809942000000002\n",
      "Iteration 2 estimators 9 percentile 98 auc -0.8681994\n",
      "Iteration 3 estimators 9 percentile 97 auc -0.8406938\n",
      "Iteration 4 estimators 9 percentile 96 auc -0.7846138\n",
      "Iteration 5 estimators 9 percentile 95 auc -0.7898569999999999\n",
      "Iteration 6 estimators 9 percentile 94 auc -0.7635812\n",
      "Iteration 7 estimators 9 percentile 93 auc -0.7306916\n",
      "Iteration 8 estimators 9 percentile 92 auc -0.728413\n",
      "Iteration 9 estimators 9 percentile 91 auc -0.7295018\n",
      "Iteration 10 estimators 9 percentile 90 auc -0.7260333999999999\n",
      "Iteration 11 estimators 9 percentile 89 auc -0.7260333999999999\n",
      "Iteration 12 estimators 9 percentile 88 auc -0.7260333999999999\n",
      "Iteration 13 estimators 9 percentile 87 auc -0.7248638\n",
      "Iteration 14 estimators 9 percentile 86 auc -0.7254486\n",
      "Best params {'n_estimators': 9} percentile 99 auc -0.8809942000000002\n"
     ]
    }
   ],
   "source": [
    "min_metric = 100000\n",
    "xgb_tunned_params = dict()\n",
    "xgb_percentile = 0\n",
    "for i in range(1,15):\n",
    "    xgb_x_cols = ft_importance_total[ft_importance_total.value >= np.percentile(ft_importance_total.value,100-i)].sort_values(by='value', ascending=False).feature\n",
    "    X2 = X[xgb_x_cols] \n",
    "    y2 = y.astype('int')\n",
    "    v_n_estimators, v_metric = modelfit(xgb, X2, y2) \n",
    "    print('Iteration', i, 'estimators', v_n_estimators, 'percentile', 100-i, 'auc', v_metric)\n",
    "    if v_metric < min_metric:\n",
    "        xgb_tunned_params['n_estimators'] = v_n_estimators\n",
    "        xgb_percentile = 100-i\n",
    "        min_metric = v_metric\n",
    "print('Best params', xgb_tunned_params, 'percentile', xgb_percentile, 'auc', min_metric)"
   ]
  },
  {
   "cell_type": "code",
   "execution_count": 62,
   "metadata": {},
   "outputs": [
    {
     "data": {
      "text/plain": [
       "933                      employee1_enc\n",
       "934                      employee2_enc\n",
       "930                           sido_enc\n",
       "113    DIFF(shortLoan1 by ownerChange)\n",
       "935                    ownerChange_enc\n",
       "0                                 noi1\n",
       "149       DIFF(profit2 by ownerChange)\n",
       "154         DIFF(bedCount by instkind)\n",
       "186          DIFF(noe1 by ownerChange)\n",
       "93                     inventoryAsset2\n",
       "Name: feature, dtype: object"
      ]
     },
     "execution_count": 62,
     "metadata": {},
     "output_type": "execute_result"
    }
   ],
   "source": [
    "xgb_x_cols = ft_importance_total[ft_importance_total.value >= np.percentile(ft_importance_total.value,xgb_percentile)].sort_values(by='value', ascending=False).feature\n",
    "xgb_x_cols"
   ]
  },
  {
   "cell_type": "code",
   "execution_count": 63,
   "metadata": {},
   "outputs": [],
   "source": [
    "xgb = XGBClassifier(\n",
    "         learning_rate=0.1,\n",
    "         n_estimators=xgb_tunned_params['n_estimators'],\n",
    "         objective= 'binary:logistic',\n",
    "         tree_method='gpu_exact',\n",
    "         predictor='gpu_predictor',\n",
    "         scale_pos_weight=int(1/imbalanced_pos_ratio),\n",
    "         seed=42)"
   ]
  },
  {
   "cell_type": "code",
   "execution_count": 64,
   "metadata": {},
   "outputs": [
    {
     "data": {
      "text/plain": [
       "XGBClassifier(base_score=0.5, booster='gbtree', colsample_bylevel=1,\n",
       "       colsample_bytree=1, gamma=0, learning_rate=0.1, max_delta_step=0,\n",
       "       max_depth=3, min_child_weight=1, missing=None, n_estimators=9,\n",
       "       n_jobs=1, nthread=None, objective='binary:logistic',\n",
       "       predictor='gpu_predictor', random_state=0, reg_alpha=0,\n",
       "       reg_lambda=1, scale_pos_weight=19, seed=42, silent=True,\n",
       "       subsample=1, tree_method='gpu_exact')"
      ]
     },
     "execution_count": 64,
     "metadata": {},
     "output_type": "execute_result"
    }
   ],
   "source": [
    "xgb.fit(X[xgb_x_cols], y.astype(int))"
   ]
  },
  {
   "cell_type": "code",
   "execution_count": 65,
   "metadata": {},
   "outputs": [],
   "source": [
    "preds_class = xgb.predict(X_test[xgb_x_cols])\n",
    "preds_proba = xgb.predict_proba(X_test[xgb_x_cols])"
   ]
  },
  {
   "cell_type": "code",
   "execution_count": 66,
   "metadata": {},
   "outputs": [
    {
     "data": {
      "text/plain": [
       "array([0, 0, 1, 1, 0, 1, 1, 1, 1, 1, 0, 1, 0, 1, 1, 0, 0, 1, 0, 0, 1, 1,\n",
       "       1, 1, 0, 1, 0, 0, 1, 0, 1, 0, 0, 0, 1, 1, 0, 1, 0, 1, 0, 1, 1, 1,\n",
       "       0, 1, 1, 0, 1, 1, 1, 0, 1, 1, 1, 1, 1, 1, 0, 0, 1, 0, 1, 1, 1, 1,\n",
       "       0, 1, 1, 1, 1, 1, 1, 0, 0, 0, 0, 1, 1, 1, 1, 1, 1, 0, 1, 0, 0, 1,\n",
       "       1, 1, 0, 1, 0, 1, 1, 0, 1, 1, 0, 1, 1, 1, 1, 0, 1, 1, 0, 0, 1, 1,\n",
       "       1, 0, 1, 0, 1, 0, 0, 1, 0, 0, 1, 1, 1, 1, 1, 1, 1])"
      ]
     },
     "execution_count": 66,
     "metadata": {},
     "output_type": "execute_result"
    }
   ],
   "source": [
    "preds_class"
   ]
  },
  {
   "cell_type": "code",
   "execution_count": 67,
   "metadata": {},
   "outputs": [
    {
     "data": {
      "text/plain": [
       "array([0.41178006, 0.37298074, 0.63293976, 0.63346916, 0.34526142,\n",
       "       0.60507226, 0.60507226, 0.60507226, 0.60507226, 0.60507226,\n",
       "       0.37298074, 0.63293976, 0.41178006, 0.60507226, 0.60507226,\n",
       "       0.34526142, 0.34526142, 0.60507226, 0.37244782, 0.44124085,\n",
       "       0.567644  , 0.60507226, 0.63293976, 0.567644  , 0.41178006,\n",
       "       0.60507226, 0.44124085, 0.41178006, 0.60507226, 0.44124085,\n",
       "       0.60507226, 0.44124085, 0.41178006, 0.41178006, 0.60507226,\n",
       "       0.60507226, 0.41178006, 0.60507226, 0.41178006, 0.60507226,\n",
       "       0.37298074, 0.60507226, 0.60507226, 0.63346916, 0.34526142,\n",
       "       0.60507226, 0.60507226, 0.37298074, 0.74182993, 0.63346916,\n",
       "       0.60507226, 0.34526142, 0.74182993, 0.60507226, 0.60507226,\n",
       "       0.63346916, 0.60507226, 0.60507226, 0.44124085, 0.41178006,\n",
       "       0.60507226, 0.34526142, 0.60507226, 0.74182993, 0.60507226,\n",
       "       0.63346916, 0.34526142, 0.74182993, 0.60507226, 0.60507226,\n",
       "       0.60507226, 0.60507226, 0.60507226, 0.34526142, 0.37298074,\n",
       "       0.23413454, 0.44124085, 0.60507226, 0.567644  , 0.60507226,\n",
       "       0.60507226, 0.63346916, 0.74182993, 0.25599185, 0.63293976,\n",
       "       0.25642624, 0.34526142, 0.60507226, 0.63293976, 0.74182993,\n",
       "       0.41178006, 0.567644  , 0.41178006, 0.63293976, 0.63346916,\n",
       "       0.23413454, 0.60507226, 0.60507226, 0.37298074, 0.63293976,\n",
       "       0.60507226, 0.63346916, 0.60507226, 0.44124085, 0.74182993,\n",
       "       0.63346916, 0.44067886, 0.41178006, 0.60507226, 0.60507226,\n",
       "       0.63346916, 0.25642624, 0.74182993, 0.37244782, 0.60507226,\n",
       "       0.37298074, 0.23413454, 0.60507226, 0.34526142, 0.41178006,\n",
       "       0.60507226, 0.60507226, 0.74182993, 0.60507226, 0.74182993,\n",
       "       0.60507226, 0.567644  ], dtype=float32)"
      ]
     },
     "execution_count": 67,
     "metadata": {},
     "output_type": "execute_result"
    }
   ],
   "source": [
    "preds_proba[:,1]"
   ]
  },
  {
   "cell_type": "code",
   "execution_count": 68,
   "metadata": {},
   "outputs": [],
   "source": [
    "from sklearn.model_selection import train_test_split"
   ]
  },
  {
   "cell_type": "code",
   "execution_count": 69,
   "metadata": {},
   "outputs": [],
   "source": [
    "X_train1, X_test1, y_train1, y_test1 = train_test_split(X[xgb_x_cols], y, test_size=0.33, random_state=42)"
   ]
  },
  {
   "cell_type": "code",
   "execution_count": 70,
   "metadata": {},
   "outputs": [],
   "source": [
    "xgb = XGBClassifier(\n",
    "         learning_rate=0.1,\n",
    "         n_estimators=xgb_tunned_params['n_estimators'],\n",
    "         objective= 'binary:logistic',\n",
    "         tree_method='gpu_exact',\n",
    "         predictor='gpu_predictor',\n",
    "         scale_pos_weight=int(1/imbalanced_pos_ratio),\n",
    "         seed=42)"
   ]
  },
  {
   "cell_type": "code",
   "execution_count": 71,
   "metadata": {},
   "outputs": [
    {
     "data": {
      "text/plain": [
       "XGBClassifier(base_score=0.5, booster='gbtree', colsample_bylevel=1,\n",
       "       colsample_bytree=1, gamma=0, learning_rate=0.1, max_delta_step=0,\n",
       "       max_depth=3, min_child_weight=1, missing=None, n_estimators=9,\n",
       "       n_jobs=1, nthread=None, objective='binary:logistic',\n",
       "       predictor='gpu_predictor', random_state=0, reg_alpha=0,\n",
       "       reg_lambda=1, scale_pos_weight=19, seed=42, silent=True,\n",
       "       subsample=1, tree_method='gpu_exact')"
      ]
     },
     "execution_count": 71,
     "metadata": {},
     "output_type": "execute_result"
    }
   ],
   "source": [
    "xgb.fit(X_train1, y_train1.astype(int))"
   ]
  },
  {
   "cell_type": "code",
   "execution_count": 72,
   "metadata": {},
   "outputs": [],
   "source": [
    "preds_class = xgb.predict(X_test1)\n",
    "preds_proba = xgb.predict_proba(X_test1)"
   ]
  },
  {
   "cell_type": "code",
   "execution_count": 73,
   "metadata": {},
   "outputs": [],
   "source": [
    "from sklearn.metrics import confusion_matrix"
   ]
  },
  {
   "cell_type": "code",
   "execution_count": 74,
   "metadata": {},
   "outputs": [
    {
     "data": {
      "text/plain": [
       "array([[90,  4],\n",
       "       [ 5,  1]], dtype=int64)"
      ]
     },
     "execution_count": 74,
     "metadata": {},
     "output_type": "execute_result"
    }
   ],
   "source": [
    "confusion_matrix(y_test1, preds_class)"
   ]
  },
  {
   "cell_type": "code",
   "execution_count": 79,
   "metadata": {},
   "outputs": [
    {
     "data": {
      "text/plain": [
       "Text(0.5,12.5,'Predicted label')"
      ]
     },
     "execution_count": 79,
     "metadata": {},
     "output_type": "execute_result"
    },
    {
     "data": {
      "image/png": "[encoded data removed]",
      "text/plain": [
       "<Figure size 432x288 with 2 Axes>"
      ]
     },
     "metadata": {},
     "output_type": "display_data"
    }
   ],
   "source": [
    "df_cm = pd.DataFrame(\n",
    "        confusion_matrix(y_test1, preds_class), index=['Open','Close'], columns=['Open','Close'], \n",
    "    )\n",
    "fig = plt.figure()\n",
    "try:\n",
    "    heatmap = sns.heatmap(df_cm, annot=True, fmt=\"d\")\n",
    "except ValueError:\n",
    "    raise ValueError(\"Confusion matrix values must be integers.\")\n",
    "plt.ylabel('True label')\n",
    "plt.xlabel('Predicted label')"
   ]
  },
  {
   "cell_type": "code",
   "execution_count": null,
   "metadata": {},
   "outputs": [],
   "source": []
  }
 ],
 "metadata": {
  "kernelspec": {
   "display_name": "Python 3",
   "language": "python",
   "name": "python3"
  },
  "language_info": {
   "codemirror_mode": {
    "name": "ipython",
    "version": 3
   },
   "file_extension": ".py",
   "mimetype": "text/x-python",
   "name": "python",
   "nbconvert_exporter": "python",
   "pygments_lexer": "ipython3",
   "version": "3.5.5"
  }
 },
 "nbformat": 4,
 "nbformat_minor": 2
}
